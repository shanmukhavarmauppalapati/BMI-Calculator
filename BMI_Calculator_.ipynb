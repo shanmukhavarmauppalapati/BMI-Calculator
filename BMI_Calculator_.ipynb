{
  "nbformat": 4,
  "nbformat_minor": 0,
  "metadata": {
    "colab": {
      "provenance": [],
      "authorship_tag": "ABX9TyMzF8u6t+A3MB07NRDFxQ7S",
      "include_colab_link": true
    },
    "kernelspec": {
      "name": "python3",
      "display_name": "Python 3"
    },
    "language_info": {
      "name": "python"
    }
  },
  "cells": [
    {
      "cell_type": "markdown",
      "metadata": {
        "id": "view-in-github",
        "colab_type": "text"
      },
      "source": [
        "<a href=\"https://colab.research.google.com/github/shanmukhavarmauppalapati/BMI-Calculator/blob/main/BMI_Calculator_.ipynb\" target=\"_parent\"><img src=\"https://colab.research.google.com/assets/colab-badge.svg\" alt=\"Open In Colab\"/></a>"
      ]
    },
    {
      "cell_type": "markdown",
      "source": [
        "What is the body mass index (BMI)?\n",
        "\n",
        "\n",
        "\n",
        "The body mass index (BMI) is a measure that uses your height and weight to work out if your weight is healthy."
      ],
      "metadata": {
        "id": "HdhnSadaqJIx"
      }
    },
    {
      "cell_type": "markdown",
      "source": [
        "BMI INTODUCTION\n",
        "\n",
        "\n",
        "BMI is a measurement of a person's leanness or corpulence based on their height and weight, and is intended to quantify tissue mass. It is widely used as a general indicator of whether a person has a healthy body weight for their height. Specifically, the value obtained from the calculation of BMI is used to categorize whether a person is underweight, normal weight, overweight, or obese depending on what range the value falls between. These ranges of BMI vary based on factors such as region and age, and are sometimes further divided into subcategories such as severely underweight or very severely obese. Being overweight or underweight can have significant health effects, so while BMI is an imperfect measure of healthy body weight, it is a useful indicator of whether any additional testing or action is required. Refer to the table below to see the different categories based on BMI that are used by the calculator."
      ],
      "metadata": {
        "id": "O9p8xdegqHwV"
      }
    },
    {
      "cell_type": "code",
      "source": [
        "# code\n",
        "\n",
        "Name = input(\"enter your name : \")\n",
        "\n",
        "Age = int(input(\"enter your age : \"))\n",
        "\n",
        "Height = int(input(\"enter you height in inches : \"))\n",
        "\n",
        "Weight = int(input(\"enter your weight in pounds : \"))\n",
        "\n",
        "BMI =  (Weight * 703) / (Height * Height)\n",
        "\n",
        "print(BMI)\n",
        "\n",
        "if BMI>0:\n",
        "  if (BMI < 18.5):\n",
        "        print (Name +\", You are in underweight and the risk is Minimal \")\n",
        "  elif(18.5 < BMI > 24.9):\n",
        "        print(Name +\", You are in Normal weight and the risk is Minimal \")\n",
        "  elif(25 < BMI > 29.9):\n",
        "        print(Name +\", You are in Over Weight and the risk  can be Increased \")\n",
        "  elif(30 < BMI > 34.9):\n",
        "        print(Name +\", You are in Obese Condition and the risk is high\")\n",
        "  elif(35 < BMI > 39.9):\n",
        "        print(Name +\", You are in Severely Obese Condition and the risk is very high\")\n",
        "  else:\n",
        "        print(Name +\", You are in over Morbidly Obese Condition and the risk is Extremely  high\")"
      ],
      "metadata": {
        "colab": {
          "base_uri": "https://localhost:8080/"
        },
        "id": "DD_jky-2ctfs",
        "outputId": "969b7d55-2286-4ada-88f0-0edb90eb429a"
      },
      "execution_count": 15,
      "outputs": [
        {
          "output_type": "stream",
          "name": "stdout",
          "text": [
            "enter your name : Varma\n",
            "enter your age : 21\n",
            "enter you height in inches : 69\n",
            "enter your weight in pounds : 170\n",
            "25.101869355177485\n",
            "Varma, You are in Normal weight and the risk is Minimal \n"
          ]
        }
      ]
    },
    {
      "cell_type": "markdown",
      "source": [
        "# These are the BMI Conditons \n",
        "Under 18.5---Underweight---Minimal\n",
        "\n",
        "18.5 - 24.9---Normal Weight---Minimal\n",
        "\n",
        "25 - 29.9---Overweight---Increased\n",
        "\n",
        "30 - 34.9---Obese---High\n",
        "\n",
        "35 - 39.9---Severely Obese---Very High\n",
        "\n",
        "40 and over\tMorbidly Obese---Extremely High\n"
      ],
      "metadata": {
        "id": "4pLIQ6rdrvxO"
      }
    }
  ]
}